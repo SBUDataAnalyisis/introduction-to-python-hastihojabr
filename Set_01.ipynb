{
 "cells": [
  {
   "cell_type": "markdown",
   "metadata": {
    "id": "RlM5hY6G-ChB"
   },
   "source": [
    "The first program"
   ]
  },
  {
   "cell_type": "code",
   "execution_count": 1,
   "metadata": {},
   "outputs": [],
   "source": [
    "import numpy as np\n",
    "import matplotlib.pyplot as plt\n",
    "import pandas as pd\n",
    "import warnings\n",
    "from IPython.display import display, HTML\n",
    "warnings.filterwarnings(\"ignore\")"
   ]
  },
  {
   "cell_type": "code",
   "execution_count": 2,
   "metadata": {
    "colab": {
     "base_uri": "https://localhost:8080/"
    },
    "id": "0pr3r94U9pKV",
    "outputId": "f892de44-3141-4e98-a8b7-c694ba024d91"
   },
   "outputs": [
    {
     "name": "stdout",
     "output_type": "stream",
     "text": [
      "Hello world!\n"
     ]
    }
   ],
   "source": [
    "print('Hello world!')"
   ]
  },
  {
   "cell_type": "code",
   "execution_count": 3,
   "metadata": {},
   "outputs": [
    {
     "name": "stdout",
     "output_type": "stream",
     "text": [
      "Bye World!\n"
     ]
    }
   ],
   "source": [
    "print('Bye World!')"
   ]
  },
  {
   "cell_type": "markdown",
   "metadata": {
    "id": "03P8_w5l-Qeo"
   },
   "source": [
    "## Lists, sets and tuples"
   ]
  },
  {
   "cell_type": "code",
   "execution_count": 4,
   "metadata": {
    "id": "b62OnUiR-JmP"
   },
   "outputs": [],
   "source": [
    "a = [1, 1, 2, 3, 5, 2, 6, 7, 7, 5]  #This is a list\n",
    "b = {1, 1, 2, 3, 5, 2, 6, 7, 7, 5}  #This is a set\n",
    "c = (1, 1, 2, 3, 5, 2, 6, 7, 7, 5)  #This is a tuple"
   ]
  },
  {
   "cell_type": "markdown",
   "metadata": {
    "id": "BWK-UpXh_mCD"
   },
   "source": [
    "Now print each one to see what's the difference between them."
   ]
  },
  {
   "cell_type": "code",
   "execution_count": 5,
   "metadata": {
    "colab": {
     "base_uri": "https://localhost:8080/"
    },
    "id": "IbV7UwrT_Ws4",
    "outputId": "abded92e-62ea-4ed4-e0d9-52dd45a1c5a6"
   },
   "outputs": [
    {
     "name": "stdout",
     "output_type": "stream",
     "text": [
      "a = [1, 1, 2, 3, 5, 2, 6, 7, 7, 5]\n",
      "b = {1, 2, 3, 5, 6, 7}\n",
      "c = (1, 1, 2, 3, 5, 2, 6, 7, 7, 5)\n"
     ]
    }
   ],
   "source": [
    "print('a =', a)\n",
    "print('b =', b)\n",
    "print('c =',c)"
   ]
  },
  {
   "cell_type": "markdown",
   "metadata": {
    "id": "hxbBiYR-_vOM"
   },
   "source": [
    "As you see, sets behave in the way that we expect from math, they only keep one instance of each member and disregard the rest. We can put all kinds of objects in a set, list or tuple."
   ]
  },
  {
   "cell_type": "code",
   "execution_count": 6,
   "metadata": {
    "colab": {
     "base_uri": "https://localhost:8080/"
    },
    "id": "3A2HVSGk_hyF",
    "outputId": "aebc7c87-21b2-42e9-ef0f-367c34083cf7"
   },
   "outputs": [
    {
     "name": "stdout",
     "output_type": "stream",
     "text": [
      "['Salam', 'Sib', 35.43, 12, {1, 2, 3, 5, 6, 7}, 'xy', 44]\n"
     ]
    }
   ],
   "source": [
    "d = ['Salam', 'Sib', 35.43, 12, b, 'x'+'y', 44]\n",
    "print(d)"
   ]
  },
  {
   "cell_type": "markdown",
   "metadata": {
    "id": "kQ6QFyvABDlu"
   },
   "source": [
    " Also try this for a set and a tuple and print the results."
   ]
  },
  {
   "cell_type": "code",
   "execution_count": 7,
   "metadata": {
    "id": "VPQyjZzfATxQ"
   },
   "outputs": [
    {
     "name": "stdout",
     "output_type": "stream",
     "text": [
      "e= {('hi', 'bye'), 3.141592653589793, 1999, 'flower'} \n",
      "\n",
      "d= ('van gogh', 54.598150033144236, 5, {'four': 4}, ['Salam', 'Sib', 35.43, 12, {1, 2, 3, 5, 6, 7}, 'xy', 44])\n"
     ]
    }
   ],
   "source": [
    "e = {np.pi,'flower',('hi','bye'),1999} #we cant put lists and dictionaries and sets in a set b because mutable.\n",
    "d = ('van gogh',np.exp(4),5,{'four':4},d)\n",
    "print('e=',e,'\\n')\n",
    "print('d=',d)"
   ]
  },
  {
   "cell_type": "markdown",
   "metadata": {
    "id": "85cvYMhjCM8Z"
   },
   "source": [
    "Now let's see the differense between lists and tuples."
   ]
  },
  {
   "cell_type": "code",
   "execution_count": 8,
   "metadata": {
    "colab": {
     "base_uri": "https://localhost:8080/"
    },
    "id": "OqFUXYSLBTwy",
    "outputId": "a93012c4-8760-4441-8463-78c54199777c"
   },
   "outputs": [
    {
     "name": "stdout",
     "output_type": "stream",
     "text": [
      "[1, 1, 2, 3, 5, 2, 6, 7, 7, 5, [32, 54, 'Adas']]\n"
     ]
    }
   ],
   "source": [
    "a.append([32, 54, 'Adas'])\n",
    "print(a)"
   ]
  },
  {
   "cell_type": "code",
   "execution_count": 9,
   "metadata": {
    "colab": {
     "base_uri": "https://localhost:8080/"
    },
    "id": "zoa1EKeRC7d1",
    "outputId": "29fa4c62-d700-421b-a214-040aba6ca9f2"
   },
   "outputs": [
    {
     "name": "stdout",
     "output_type": "stream",
     "text": [
      "[1, 1, 2, 3, 5, 2, 6, 7, 5, [32, 54, 'Adas']]\n"
     ]
    }
   ],
   "source": [
    "a.remove(7)\n",
    "print(a)"
   ]
  },
  {
   "cell_type": "code",
   "execution_count": 10,
   "metadata": {
    "colab": {
     "base_uri": "https://localhost:8080/"
    },
    "id": "oqhRk2cmDHYq",
    "outputId": "d67fe062-86c2-453d-e54f-ded39143f92d"
   },
   "outputs": [
    {
     "data": {
      "text/plain": [
       "2"
      ]
     },
     "execution_count": 10,
     "metadata": {},
     "output_type": "execute_result"
    }
   ],
   "source": [
    "c.count(1)"
   ]
  },
  {
   "cell_type": "markdown",
   "metadata": {
    "id": "DdHn5DE_DYcT"
   },
   "source": [
    "In general, tuples are faster than lists, but lists have many more atributes and options. To see which options either have, type the variable with dot (\".\") after it and wait to see the options. To see what each option will do, you can type a question mark (\"?\") before it and run the cell. Now run the cell below and see what happens."
   ]
  },
  {
   "cell_type": "code",
   "execution_count": 11,
   "metadata": {
    "id": "oCXXkeiYDRVU"
   },
   "outputs": [],
   "source": [
    "?a.sort"
   ]
  },
  {
   "cell_type": "markdown",
   "metadata": {
    "id": "lBgLNtc5FBRd"
   },
   "source": [
    "Now using the options introduced above, try to make the list \"a\" to look like the tuple \"c\"."
   ]
  },
  {
   "cell_type": "code",
   "execution_count": 12,
   "metadata": {},
   "outputs": [
    {
     "name": "stdout",
     "output_type": "stream",
     "text": [
      "a= [1, 1, 2, 3, 5, 2, 6, 7, 7, 5]\n",
      "c= (1, 1, 2, 3, 5, 2, 6, 7, 7, 5)\n"
     ]
    }
   ],
   "source": [
    "a=[1, 1, 2, 2, 3, 5, 5, 6, 7, [32, 54, 'Adas']]\n",
    "for i in range(8): a.remove(a[-1])\n",
    "for j in [2, 3, 5, 2, 6, 7, 7, 5]: a.append(j)\n",
    "print('a=',a)\n",
    "print('c=',c)"
   ]
  },
  {
   "cell_type": "markdown",
   "metadata": {
    "id": "_6aNCn3BEsI9"
   },
   "source": [
    "# Loops and indexing"
   ]
  },
  {
   "cell_type": "markdown",
   "metadata": {
    "id": "MOyuvrKdE1Uo"
   },
   "source": [
    "You can access the members of a list (or tuple) with indexing them as follows:"
   ]
  },
  {
   "cell_type": "code",
   "execution_count": 13,
   "metadata": {
    "colab": {
     "base_uri": "https://localhost:8080/"
    },
    "id": "1QpIBOKOEXG3",
    "outputId": "b75734ab-ba70-4041-c43a-3c9135d69c3e"
   },
   "outputs": [
    {
     "name": "stdout",
     "output_type": "stream",
     "text": [
      "The first member of tuple \"c\" is: 1\n",
      "The third member of tuple \"c\" is: Ellipsis\n",
      "The last member of tuple \"c\" is: 5\n",
      "The third to last member of tuple \"c\" is: Ellipsis\n"
     ]
    }
   ],
   "source": [
    "print('The first member of tuple \"c\" is:', c[0])\n",
    "print('The third member of tuple \"c\" is:', ...)\n",
    "print('The last member of tuple \"c\" is:', c[-1])\n",
    "print('The third to last member of tuple \"c\" is:', ...)"
   ]
  },
  {
   "cell_type": "markdown",
   "metadata": {
    "id": "tabEhDpGF2Oc"
   },
   "source": [
    "## For loops\n",
    "Let's see two examples"
   ]
  },
  {
   "cell_type": "code",
   "execution_count": 14,
   "metadata": {
    "colab": {
     "base_uri": "https://localhost:8080/"
    },
    "id": "jpW9oM01FfdT",
    "outputId": "7dbe5a17-3fb1-4231-a039-4b781ae568e0"
   },
   "outputs": [
    {
     "name": "stdout",
     "output_type": "stream",
     "text": [
      "0\n",
      "1\n",
      "2\n",
      "3\n",
      "4\n"
     ]
    }
   ],
   "source": [
    "for i in range(5):\n",
    "    print(i)"
   ]
  },
  {
   "cell_type": "code",
   "execution_count": 15,
   "metadata": {
    "colab": {
     "base_uri": "https://localhost:8080/"
    },
    "id": "O5_YYt9uGDfk",
    "outputId": "ceacf547-217f-4bed-c82f-42524aad8683"
   },
   "outputs": [
    {
     "name": "stdout",
     "output_type": "stream",
     "text": [
      "1\n",
      "1\n",
      "4\n",
      "9\n",
      "25\n",
      "4\n",
      "36\n",
      "49\n",
      "49\n",
      "25\n"
     ]
    }
   ],
   "source": [
    "for cc in c:\n",
    "    print(cc**2)"
   ]
  },
  {
   "cell_type": "markdown",
   "metadata": {
    "id": "Ewev8_ZtGU9w"
   },
   "source": [
    "Now write a code to print the members of \"a\" list defiend as below in reverse order."
   ]
  },
  {
   "cell_type": "code",
   "execution_count": 16,
   "metadata": {
    "id": "tPYkPZgTGRBz"
   },
   "outputs": [
    {
     "name": "stdout",
     "output_type": "stream",
     "text": [
      "[32, 54, 'Adas']\n",
      "5\n",
      "7\n",
      "7\n",
      "6\n",
      "2\n",
      "5\n",
      "3\n",
      "2\n",
      "1\n",
      "1\n"
     ]
    }
   ],
   "source": [
    "a = [1, 1, 2, 3, 5, 2, 6, 7, 7, 5, [32, 54, 'Adas']]\n",
    "\n",
    "for i in range(1,len(a)+1): print(a[-i])"
   ]
  },
  {
   "cell_type": "markdown",
   "metadata": {
    "id": "I7CQa_pOGqeR"
   },
   "source": [
    "## While loops\n",
    "It runs while the argument is true. Compelete the code below to get the desired result."
   ]
  },
  {
   "cell_type": "code",
   "execution_count": 17,
   "metadata": {},
   "outputs": [
    {
     "name": "stdout",
     "output_type": "stream",
     "text": [
      "[32, 54, 'Adas']\n",
      "5\n",
      "7\n",
      "7\n",
      "6\n",
      "2\n",
      "5\n",
      "3\n",
      "2\n",
      "1\n",
      "1\n"
     ]
    }
   ],
   "source": [
    "a = [1, 1, 2, 3, 5, 2, 6, 7, 7, 5, [32, 54, 'Adas']]\n",
    "i = len(a)-1\n",
    "while i >= 0:\n",
    "    print(a[i])\n",
    "    i-=1"
   ]
  },
  {
   "cell_type": "markdown",
   "metadata": {
    "id": "oKPq6XV_Hn_i"
   },
   "source": [
    "# if, else, elif"
   ]
  },
  {
   "cell_type": "code",
   "execution_count": 18,
   "metadata": {
    "colab": {
     "base_uri": "https://localhost:8080/"
    },
    "id": "Nnq513PxHOpD",
    "outputId": "a14665b4-47e0-418d-fded-ed8baab1e195"
   },
   "outputs": [
    {
     "name": "stdout",
     "output_type": "stream",
     "text": [
      "Meh..\n"
     ]
    }
   ],
   "source": [
    "x = 5\n",
    "\n",
    "if x > 5:\n",
    "    print('Yay!!')\n",
    "elif x < 5:\n",
    "    print(\"Nay :(\")\n",
    "else:\n",
    "     print(\"Meh..\")"
   ]
  },
  {
   "cell_type": "markdown",
   "metadata": {
    "id": "H27B7x6oIOj6"
   },
   "source": [
    "Now using the example provided above and your knowledge of loops, write a piece of code to print the apropriate messages for each member of the tuple \"c\". "
   ]
  },
  {
   "cell_type": "code",
   "execution_count": 19,
   "metadata": {},
   "outputs": [
    {
     "data": {
      "text/plain": [
       "(1, 1, 2, 3, 5, 2, 6, 7, 7, 5)"
      ]
     },
     "execution_count": 19,
     "metadata": {},
     "output_type": "execute_result"
    }
   ],
   "source": [
    "c = (1, 1, 2, 3, 5, 2, 6, 7, 7, 5)\n",
    "c"
   ]
  },
  {
   "cell_type": "code",
   "execution_count": 20,
   "metadata": {
    "id": "qtUvveC4IMh5"
   },
   "outputs": [
    {
     "name": "stdout",
     "output_type": "stream",
     "text": [
      "1 is not even and not odd.\n",
      "1 is not even and not odd.\n",
      "2 is an odd Number.\n",
      "3 is an even Number.\n",
      "5 is an even Number.\n",
      "2 is an odd Number.\n",
      "6 is an odd Number.\n",
      "7 is an even Number.\n",
      "7 is an even Number.\n",
      "5 is an even Number.\n"
     ]
    }
   ],
   "source": [
    "for i in c:\n",
    "    if i==1: print('{} is not even and not odd.'.format(i))\n",
    "    elif i%2: print('{} is an even Number.'.format(i))\n",
    "    else: print('{} is an odd Number.'.format(i))"
   ]
  },
  {
   "cell_type": "markdown",
   "metadata": {
    "id": "k55bka7DJAjh"
   },
   "source": [
    "# Libraries"
   ]
  },
  {
   "cell_type": "markdown",
   "metadata": {
    "id": "8ZTtQ6ZnGMOL"
   },
   "source": [
    "Libraries are collections of many pre-written programs that enable us to write code much more easily. In other words, it's like importing a library expands available python commands.\n",
    "\n",
    "There are three ways to import commands from library.\n",
    "\n",
    "### 1) Import the whole library"
   ]
  },
  {
   "cell_type": "code",
   "execution_count": 21,
   "metadata": {
    "id": "ocTrk5zdJEli"
   },
   "outputs": [],
   "source": [
    "import time"
   ]
  },
  {
   "cell_type": "markdown",
   "metadata": {
    "id": "qOaiUuJKHBZE"
   },
   "source": [
    "Now we can use the commands inside \"time\" by using the familirar \"dot\" operator."
   ]
  },
  {
   "cell_type": "code",
   "execution_count": 22,
   "metadata": {
    "colab": {
     "base_uri": "https://localhost:8080/"
    },
    "id": "AX7uLHGSHVBo",
    "outputId": "9510dbb4-7604-42f9-a63d-d79391afb9ff"
   },
   "outputs": [
    {
     "name": "stdout",
     "output_type": "stream",
     "text": [
      "time.struct_time(tm_year=2022, tm_mon=2, tm_mday=25, tm_hour=13, tm_min=5, tm_sec=28, tm_wday=4, tm_yday=56, tm_isdst=0)\n"
     ]
    }
   ],
   "source": [
    "print(time.localtime())"
   ]
  },
  {
   "cell_type": "markdown",
   "metadata": {
    "id": "mxwqFfuUIh8z"
   },
   "source": [
    "### 2) Import certain functions (or classes) from a library"
   ]
  },
  {
   "cell_type": "code",
   "execution_count": 23,
   "metadata": {
    "id": "fvhfYqyfIVJO"
   },
   "outputs": [],
   "source": [
    "from math import pi, sin"
   ]
  },
  {
   "cell_type": "code",
   "execution_count": 24,
   "metadata": {
    "colab": {
     "base_uri": "https://localhost:8080/"
    },
    "id": "LpVcic_mI4tG",
    "outputId": "0b3665f4-9e44-4037-a37a-adf09af060d1"
   },
   "outputs": [
    {
     "name": "stdout",
     "output_type": "stream",
     "text": [
      "1.0\n"
     ]
    }
   ],
   "source": [
    "print(sin(pi/2))"
   ]
  },
  {
   "cell_type": "markdown",
   "metadata": {
    "id": "Aljr12tMI-Vl"
   },
   "source": [
    "### 3) Import the whole library or certain commands with a different name"
   ]
  },
  {
   "cell_type": "code",
   "execution_count": 25,
   "metadata": {
    "id": "iSpdWAgCI7S6"
   },
   "outputs": [],
   "source": [
    "import numpy as np\n",
    "from matplotlib import pyplot as plt"
   ]
  },
  {
   "cell_type": "markdown",
   "metadata": {
    "id": "XRiARr0OJVY-"
   },
   "source": [
    "We are going to learn how to use these two libraries in the next section.\n",
    "\n",
    "## Installing new libraries in Google colab\n",
    "\n",
    "To do this you need the command \"pip\"."
   ]
  },
  {
   "cell_type": "code",
   "execution_count": null,
   "metadata": {
    "id": "bcFsepOnJROc"
   },
   "outputs": [],
   "source": [
    "!pip install sxs"
   ]
  },
  {
   "cell_type": "markdown",
   "metadata": {
    "id": "uGJRJ9JzKQ2F"
   },
   "source": [
    "'sxs' is a library for simulation gravitational waves. We won't be needing this in this course."
   ]
  },
  {
   "cell_type": "markdown",
   "metadata": {
    "id": "DL-uBXefKbIS"
   },
   "source": [
    "# Numpy\n",
    "\n",
    "Numpy is the standard library for doing numerical calculations for scientific purposes in python. It provides a new kind of data sructure called \"numpy array\". While it is more restrictive that normal python lists, it enables us to do vector operations which is (for the most part) much faster. It also provides a wide range of mathematical and statistical operations for the arrys. Let's import numpy and see some examples."
   ]
  },
  {
   "cell_type": "code",
   "execution_count": 2,
   "metadata": {
    "id": "B7kpoan6JsM8"
   },
   "outputs": [],
   "source": [
    "import numpy as np"
   ]
  },
  {
   "cell_type": "code",
   "execution_count": 27,
   "metadata": {
    "colab": {
     "base_uri": "https://localhost:8080/"
    },
    "id": "DaElHodKQIz3",
    "outputId": "7d9aa62e-d714-4c05-d64c-4c6e1ee9e538"
   },
   "outputs": [
    {
     "name": "stdout",
     "output_type": "stream",
     "text": [
      "[ 1  1  2  3  5  8 13 21 34]\n"
     ]
    }
   ],
   "source": [
    "a = np.array([1, 1, 2, 3, 5, 8, 13, 21, 34])\n",
    "print(a)"
   ]
  },
  {
   "cell_type": "code",
   "execution_count": 28,
   "metadata": {
    "colab": {
     "base_uri": "https://localhost:8080/"
    },
    "id": "nle3HxRYQVBp",
    "outputId": "94a95c34-dc73-455d-ec14-db9f9b6e303d"
   },
   "outputs": [
    {
     "name": "stdout",
     "output_type": "stream",
     "text": [
      "88\n"
     ]
    }
   ],
   "source": [
    "print(np.sum(a))"
   ]
  },
  {
   "cell_type": "code",
   "execution_count": 29,
   "metadata": {
    "colab": {
     "base_uri": "https://localhost:8080/"
    },
    "id": "wusgbQ1KQae5",
    "outputId": "9de8fa11-636e-4d4f-8375-fa58d9a139d7"
   },
   "outputs": [
    {
     "data": {
      "text/plain": [
       "34"
      ]
     },
     "execution_count": 29,
     "metadata": {},
     "output_type": "execute_result"
    }
   ],
   "source": [
    "a.max()"
   ]
  },
  {
   "cell_type": "code",
   "execution_count": 30,
   "metadata": {
    "colab": {
     "base_uri": "https://localhost:8080/"
    },
    "id": "RkYpGT6PQf5R",
    "outputId": "ebd27e0e-7d03-471f-aa5f-c810da38f085"
   },
   "outputs": [
    {
     "data": {
      "text/plain": [
       "9.777777777777779"
      ]
     },
     "execution_count": 30,
     "metadata": {},
     "output_type": "execute_result"
    }
   ],
   "source": [
    "a.mean()"
   ]
  },
  {
   "cell_type": "markdown",
   "metadata": {
    "id": "7R38qRnARVC0"
   },
   "source": [
    "And for some vectorized operations:"
   ]
  },
  {
   "cell_type": "code",
   "execution_count": 31,
   "metadata": {
    "colab": {
     "base_uri": "https://localhost:8080/"
    },
    "id": "SQ26mSiBQisy",
    "outputId": "058faa30-e047-48b1-e3c6-bc663eba108e"
   },
   "outputs": [
    {
     "name": "stdout",
     "output_type": "stream",
     "text": [
      "[  3   3   6   9  15  24  39  63 102]\n"
     ]
    }
   ],
   "source": [
    "print(3 * a)"
   ]
  },
  {
   "cell_type": "code",
   "execution_count": 32,
   "metadata": {
    "colab": {
     "base_uri": "https://localhost:8080/"
    },
    "id": "5k_XVQbpReDR",
    "outputId": "afe7f2bd-2e33-42f8-e6bd-ed48acf65b47"
   },
   "outputs": [
    {
     "name": "stdout",
     "output_type": "stream",
     "text": [
      "[1. 1. 1. 1. 1. 1. 1. 1. 1.]\n"
     ]
    }
   ],
   "source": [
    "b = np.ones(len(a))\n",
    "print(b)"
   ]
  },
  {
   "cell_type": "code",
   "execution_count": 33,
   "metadata": {
    "colab": {
     "base_uri": "https://localhost:8080/"
    },
    "id": "yWAPPwt9Rkux",
    "outputId": "5fa30112-0ab5-4b61-ec8c-9c70799f1a89"
   },
   "outputs": [
    {
     "name": "stdout",
     "output_type": "stream",
     "text": [
      "[ 2.  2.  3.  4.  6.  9. 14. 22. 35.]\n"
     ]
    }
   ],
   "source": [
    "print(a + b)"
   ]
  },
  {
   "cell_type": "code",
   "execution_count": 34,
   "metadata": {
    "colab": {
     "base_uri": "https://localhost:8080/"
    },
    "id": "UcqXY3VrRpmz",
    "outputId": "89a2426f-1000-4a31-b80c-6f4596b32546"
   },
   "outputs": [
    {
     "name": "stdout",
     "output_type": "stream",
     "text": [
      "2.0\n",
      "2.0\n",
      "3.0\n",
      "4.0\n",
      "6.0\n",
      "9.0\n",
      "14.0\n",
      "22.0\n",
      "35.0\n"
     ]
    }
   ],
   "source": [
    "for i in range(len(a)):\n",
    "    print(a[i] + b[i])"
   ]
  },
  {
   "cell_type": "markdown",
   "metadata": {
    "id": "cKyYeSrzR0pp"
   },
   "source": [
    "As you might have noticed, array \"a\" shows the first 9 Fibonacci numbers. Now write a piece of code to turn b into a."
   ]
  },
  {
   "cell_type": "code",
   "execution_count": 35,
   "metadata": {},
   "outputs": [
    {
     "name": "stdout",
     "output_type": "stream",
     "text": [
      "[ 1.  1.  2.  3.  5.  8. 13. 21. 34.]\n"
     ]
    }
   ],
   "source": [
    "b = np.ones(len(a))\n",
    "for i in range(2,len(b)):\n",
    "    b[i] = b[i-2]+b[i-1]  \n",
    "print(b)"
   ]
  },
  {
   "cell_type": "markdown",
   "metadata": {
    "id": "spvEllTiSrS9"
   },
   "source": [
    "As another exercise, make a numpy array of size 100 using \"linspace\" between 0 and 2$\\pi$, and calculate the sine of each member in a vectorized manner and put it in a new array."
   ]
  },
  {
   "cell_type": "code",
   "execution_count": 5,
   "metadata": {
    "id": "eNVqlpgMSjIJ"
   },
   "outputs": [],
   "source": [
    "x = np.linspace(0,2*np.pi,100)\n",
    "y = np.sin(x)"
   ]
  },
  {
   "cell_type": "markdown",
   "metadata": {
    "id": "saZ3z0KYTUWj"
   },
   "source": [
    "# Matplotlib\n",
    "\n",
    "Matplotlib is a library used for simple plotting. It is basically the python version of Matlab plot and is sufficient for most scientific purposes. There are also more advanced plotting libraries like \"Seaborn\" and \"Plotly\"."
   ]
  },
  {
   "cell_type": "code",
   "execution_count": 9,
   "metadata": {
    "id": "02HbUlGcTV8A"
   },
   "outputs": [],
   "source": [
    "import matplotlib.pyplot as plt"
   ]
  },
  {
   "cell_type": "markdown",
   "metadata": {
    "id": "lQFAQDrL7wSF"
   },
   "source": [
    "Now lt's plot the sine function we made above"
   ]
  },
  {
   "cell_type": "code",
   "execution_count": 38,
   "metadata": {
    "colab": {
     "base_uri": "https://localhost:8080/",
     "height": 265
    },
    "id": "r9TQM6lx7OE6",
    "outputId": "9c44c158-77ba-4021-de3b-71657e227ae6"
   },
   "outputs": [
    {
     "data": {
      "image/png": "[encoded data removed]",
      "text/plain": [
       "<Figure size 432x288 with 1 Axes>"
      ]
     },
     "metadata": {
      "needs_background": "light"
     },
     "output_type": "display_data"
    }
   ],
   "source": [
    "plt.plot(x, y)\n",
    "plt.show()"
   ]
  },
  {
   "cell_type": "markdown",
   "metadata": {
    "id": "CXqyajxWB8B9"
   },
   "source": [
    "This is the basic plotting function. you can add labels, legends, change fonts, etc..\n",
    "\n",
    "As an exercise, add labels for the x and y axes to the plot above, and also label the line."
   ]
  },
  {
   "cell_type": "markdown",
   "metadata": {
    "id": "iFsiIHEhCTV1"
   },
   "source": [
    "# Reading and writing files using numpy"
   ]
  },
  {
   "cell_type": "markdown",
   "metadata": {
    "id": "YvU9h3qB4mTh"
   },
   "source": [
    "For reading and writing text files with numpy, we can use \"readtxt\" and \"savetxt\" commands. Let's see some examples."
   ]
  },
  {
   "cell_type": "code",
   "execution_count": 6,
   "metadata": {
    "id": "2F9Aj3U2B5lm"
   },
   "outputs": [],
   "source": [
    "data_to_save = np.column_stack((x, y))\n",
    "np.savetxt('sine_function', data_to_save,header='sine_function')"
   ]
  },
  {
   "cell_type": "markdown",
   "metadata": {
    "id": "za8hZb0-6JQA"
   },
   "source": [
    "Now for exercise, try to save the data with a header."
   ]
  },
  {
   "cell_type": "code",
   "execution_count": 7,
   "metadata": {
    "id": "PTbnSI7f5fFm"
   },
   "outputs": [],
   "source": [
    "data_to_read = np.loadtxt('sine_function')"
   ]
  },
  {
   "cell_type": "markdown",
   "metadata": {
    "id": "E-Kk80Rx6cz_"
   },
   "source": [
    "To see whether it's the same data or not, we can plot it."
   ]
  },
  {
   "cell_type": "code",
   "execution_count": 10,
   "metadata": {
    "colab": {
     "base_uri": "https://localhost:8080/",
     "height": 265
    },
    "id": "XAxnOkuY6bs8",
    "outputId": "af73c503-554c-496d-e4c8-1b3788315d84"
   },
   "outputs": [
    {
     "data": {
      "image/png": "[encoded data removed]",
      "text/plain": [
       "<Figure size 432x288 with 1 Axes>"
      ]
     },
     "metadata": {
      "needs_background": "light"
     },
     "output_type": "display_data"
    }
   ],
   "source": [
    "plt.plot(data_to_read[:,0], data_to_read[:,1])\n",
    "plt.show()"
   ]
  },
  {
   "cell_type": "markdown",
   "metadata": {
    "id": "6GeMrWtQ7DPQ"
   },
   "source": [
    "Now as an exercise, try to read the file into twe seperate variables. (insted of having just \"data_to_read\" read it into \"x\" and \"y\", each corresponding to an axis."
   ]
  },
  {
   "cell_type": "code",
   "execution_count": 47,
   "metadata": {},
   "outputs": [],
   "source": [
    "x,y = np.loadtxt('sine_function')[:,0],np.loadtxt('sine_function')[:,1]"
   ]
  },
  {
   "cell_type": "code",
   "execution_count": 48,
   "metadata": {},
   "outputs": [
    {
     "data": {
      "text/plain": [
       "[<matplotlib.lines.Line2D at 0x7fd0024b3f10>]"
      ]
     },
     "execution_count": 48,
     "metadata": {},
     "output_type": "execute_result"
    },
    {
     "data": {
      "image/png": "[encoded data removed]",
      "text/plain": [
       "<Figure size 432x288 with 1 Axes>"
      ]
     },
     "metadata": {
      "needs_background": "light"
     },
     "output_type": "display_data"
    }
   ],
   "source": [
    "plt.plot(x,y)"
   ]
  },
  {
   "cell_type": "markdown",
   "metadata": {
    "id": "xmDKg62f7W_7"
   },
   "source": [
    "# Functions"
   ]
  },
  {
   "cell_type": "markdown",
   "metadata": {
    "id": "PxzTkElg7g6U"
   },
   "source": [
    "Functions in python, are defined using the command \"def\". If a variable is defined inside of a function, when we run that function, the variable is local and it's value is lost when we retrun the function. On the other hand if we do not define a variable tha we use in a function, function tries to read a globally defined variable with the same name. If it is not defined before running the function, we will see an error.\n",
    "\n",
    "As an example, let's define a function that returns the sum of two input variables."
   ]
  },
  {
   "cell_type": "code",
   "execution_count": 49,
   "metadata": {
    "id": "AyPpaWAa6tn4"
   },
   "outputs": [],
   "source": [
    "def my_sum_function(x, y):\n",
    "    return x + y"
   ]
  },
  {
   "cell_type": "code",
   "execution_count": 50,
   "metadata": {
    "colab": {
     "base_uri": "https://localhost:8080/"
    },
    "id": "ei-6Gq_B8xCO",
    "outputId": "3a14de9f-188b-4797-ab0e-defe79bf7c71"
   },
   "outputs": [
    {
     "data": {
      "text/plain": [
       "22"
      ]
     },
     "execution_count": 50,
     "metadata": {},
     "output_type": "execute_result"
    }
   ],
   "source": [
    "my_sum_function(10, 12)"
   ]
  },
  {
   "cell_type": "markdown",
   "metadata": {
    "id": "8KL1PUGt81cZ"
   },
   "source": [
    "Now try to write a function that reads a number N and returns the Nth Fibonacci number."
   ]
  },
  {
   "cell_type": "code",
   "execution_count": 51,
   "metadata": {
    "id": "mEabqHWb80ak"
   },
   "outputs": [
    {
     "name": "stdout",
     "output_type": "stream",
     "text": [
      "Given number 100 we get 100th Fibonacci number which is 354224848179261915075.\n"
     ]
    }
   ],
   "source": [
    "def Fibonacci(N):\n",
    "    F1 = 1    #Starting with F_1=1\n",
    "    f=[F1]\n",
    "    for i in range(0,N-2): \n",
    "        if f[i]==1: f.append(f[i]+f[i])\n",
    "        else: f.append(f[i]+f[i-1])\n",
    "    return f[-1]\n",
    "N=100\n",
    "print('Given number {} we get {}th Fibonacci number which is {}.'.format(N,N,Fibonacci(N)))"
   ]
  },
  {
   "cell_type": "code",
   "execution_count": null,
   "metadata": {},
   "outputs": [],
   "source": []
  }
 ],
 "metadata": {
  "colab": {
   "collapsed_sections": [
    "03P8_w5l-Qeo",
    "_6aNCn3BEsI9",
    "tabEhDpGF2Oc",
    "I7CQa_pOGqeR",
    "oKPq6XV_Hn_i",
    "k55bka7DJAjh",
    "8ZTtQ6ZnGMOL",
    "mxwqFfuUIh8z",
    "Aljr12tMI-Vl",
    "XRiARr0OJVY-",
    "DL-uBXefKbIS",
    "saZ3z0KYTUWj"
   ],
   "name": "Set_01.ipynb",
   "provenance": []
  },
  "kernelspec": {
   "display_name": "Python 3",
   "language": "python",
   "name": "python3"
  },
  "language_info": {
   "codemirror_mode": {
    "name": "ipython",
    "version": 3
   },
   "file_extension": ".py",
   "mimetype": "text/x-python",
   "name": "python",
   "nbconvert_exporter": "python",
   "pygments_lexer": "ipython3",
   "version": "3.7.3"
  }
 },
 "nbformat": 4,
 "nbformat_minor": 1
}
